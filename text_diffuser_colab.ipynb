{
  "cells": [
    {
      "cell_type": "code",
      "execution_count": null,
      "metadata": {
        "id": "IkgfVvAUKex5"
      },
      "outputs": [],
      "source": [
        "%cd /content\n",
        "!git clone -b dev https://github.com/camenduru/TextDiffuser-hf\n",
        "%cd /content/TextDiffuser-hf\n",
        "!apt -y install -qq aria2\n",
        "!aria2c --console-log-level=error -c -x 16 -s 16 -k 1M https://huggingface.co/camenduru/textdiffuser/resolve/main/textdiffuser-ckpt-new.zip -d /content -o textdiffuser-ckpt-new.zip\n",
        "!rm -rf /content/TextDiffuser-hf/src/diffusers\n",
        "!pip install -r requirements.txt\n",
        "# !pip install git+https://github.com/camenduru/TextDiffuser-diffusers -U\n",
        "!python app.py"
      ]
    }
  ],
  "metadata": {
    "accelerator": "GPU",
    "colab": {
      "gpuType": "T4",
      "provenance": []
    },
    "kernelspec": {
      "display_name": "Python 3",
      "name": "python3"
    },
    "language_info": {
      "name": "python"
    }
  },
  "nbformat": 4,
  "nbformat_minor": 0
}
